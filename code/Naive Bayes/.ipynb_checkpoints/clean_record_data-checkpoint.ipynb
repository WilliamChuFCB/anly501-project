{
 "cells": [
  {
   "cell_type": "code",
   "execution_count": 1,
   "metadata": {},
   "outputs": [],
   "source": [
    "#LOAD RELEVANT PACKAGES\n",
    "from sklearn.datasets import load_iris\n",
    "import numpy as np\n",
    "import matplotlib.pyplot as plt\n",
    "import seaborn as sns\n",
    "import pandas as  pd"
   ]
  },
  {
   "cell_type": "code",
   "execution_count": 2,
   "metadata": {},
   "outputs": [
    {
     "name": "stdout",
     "output_type": "stream",
     "text": [
      "      Gender Ever_Married  Age Graduated  Work_Experience Spending_Score  \\\n",
      "0       Male           No   22        No              1.0            Low   \n",
      "1     Female          Yes   67       Yes              1.0            Low   \n",
      "2       Male          Yes   67       Yes              0.0           High   \n",
      "3       Male          Yes   56        No              0.0        Average   \n",
      "4       Male           No   32       Yes              1.0            Low   \n",
      "...      ...          ...  ...       ...              ...            ...   \n",
      "6800    Male           No   22        No              0.0            Low   \n",
      "6801    Male           No   35        No              3.0            Low   \n",
      "6802  Female           No   33       Yes              1.0            Low   \n",
      "6803  Female           No   27       Yes              1.0            Low   \n",
      "6804    Male          Yes   37       Yes              0.0        Average   \n",
      "\n",
      "      Family_Size Segmentation  \n",
      "0             4.0            D  \n",
      "1             1.0            B  \n",
      "2             2.0            B  \n",
      "3             2.0            C  \n",
      "4             3.0            C  \n",
      "...           ...          ...  \n",
      "6800          7.0            D  \n",
      "6801          4.0            D  \n",
      "6802          1.0            D  \n",
      "6803          4.0            B  \n",
      "6804          3.0            B  \n",
      "\n",
      "[6805 rows x 8 columns]\n"
     ]
    }
   ],
   "source": [
    "df=pd.read_csv(\"Train.csv\")\n",
    "df=df.replace(\"NaN\", np.nan)\n",
    "df.dropna()\n",
    "df=df.drop([\"ID\",\"Profession\",\"Var_1\"],axis=1)\n",
    "newindex=[]\n",
    "for i in df.index: \n",
    "    if(sum(df.loc[i].isnull())==0):\n",
    "        newindex.append(i)\n",
    "df=df.loc[newindex].reset_index()\n",
    "df=df.drop(\"index\",axis=1)\n",
    "print(df)"
   ]
  },
  {
   "cell_type": "code",
   "execution_count": 3,
   "metadata": {},
   "outputs": [],
   "source": [
    "df['Gender']=df['Gender'].str.replace(\"Female\",\"0\")\n",
    "df['Gender']=df['Gender'].str.replace(\"Male\",\"1\")\n",
    "df['Ever_Married']=df['Ever_Married'].str.replace(\"No\",\"0\")\n",
    "df['Ever_Married']=df['Ever_Married'].str.replace(\"Yes\",\"1\")\n",
    "df['Graduated']=df['Graduated'].str.replace(\"No\",\"0\")\n",
    "df['Graduated']=df['Graduated'].str.replace(\"Yes\",\"1\")\n",
    "df['Spending_Score']=df['Spending_Score'].str.replace(\"Low\",\"1\")\n",
    "df['Spending_Score']=df['Spending_Score'].str.replace(\"Average\",\"2\")\n",
    "df['Spending_Score']=df['Spending_Score'].str.replace(\"High\",\"3\")\n",
    "df['Segmentation']=df['Segmentation'].str.replace(\"A\",\"1\")\n",
    "df['Segmentation']=df['Segmentation'].str.replace(\"B\",\"2\")\n",
    "df['Segmentation']=df['Segmentation'].str.replace(\"C\",\"3\")\n",
    "df['Segmentation']=df['Segmentation'].str.replace(\"D\",\"4\")\n",
    "df[\"Gender\"]=df[\"Gender\"].astype(\"int\")\n",
    "df[\"Ever_Married\"]=df[\"Ever_Married\"].astype(\"int\")\n",
    "df[\"Graduated\"]=df[\"Graduated\"].astype(\"int\")\n",
    "df[\"Spending_Score\"]=df[\"Spending_Score\"].astype(\"int\")\n",
    "df[\"Segmentation\"]=df[\"Segmentation\"].astype(\"int\")\n"
   ]
  },
  {
   "cell_type": "code",
   "execution_count": 4,
   "metadata": {},
   "outputs": [
    {
     "data": {
      "text/html": [
       "<div>\n",
       "<style scoped>\n",
       "    .dataframe tbody tr th:only-of-type {\n",
       "        vertical-align: middle;\n",
       "    }\n",
       "\n",
       "    .dataframe tbody tr th {\n",
       "        vertical-align: top;\n",
       "    }\n",
       "\n",
       "    .dataframe thead th {\n",
       "        text-align: right;\n",
       "    }\n",
       "</style>\n",
       "<table border=\"1\" class=\"dataframe\">\n",
       "  <thead>\n",
       "    <tr style=\"text-align: right;\">\n",
       "      <th></th>\n",
       "      <th>Gender</th>\n",
       "      <th>Ever_Married</th>\n",
       "      <th>Age</th>\n",
       "      <th>Graduated</th>\n",
       "      <th>Work_Experience</th>\n",
       "      <th>Spending_Score</th>\n",
       "      <th>Family_Size</th>\n",
       "      <th>Segmentation</th>\n",
       "    </tr>\n",
       "  </thead>\n",
       "  <tbody>\n",
       "    <tr>\n",
       "      <th>0</th>\n",
       "      <td>1</td>\n",
       "      <td>0</td>\n",
       "      <td>22</td>\n",
       "      <td>0</td>\n",
       "      <td>1.0</td>\n",
       "      <td>1</td>\n",
       "      <td>4.0</td>\n",
       "      <td>4</td>\n",
       "    </tr>\n",
       "    <tr>\n",
       "      <th>1</th>\n",
       "      <td>0</td>\n",
       "      <td>1</td>\n",
       "      <td>67</td>\n",
       "      <td>1</td>\n",
       "      <td>1.0</td>\n",
       "      <td>1</td>\n",
       "      <td>1.0</td>\n",
       "      <td>2</td>\n",
       "    </tr>\n",
       "    <tr>\n",
       "      <th>2</th>\n",
       "      <td>1</td>\n",
       "      <td>1</td>\n",
       "      <td>67</td>\n",
       "      <td>1</td>\n",
       "      <td>0.0</td>\n",
       "      <td>3</td>\n",
       "      <td>2.0</td>\n",
       "      <td>2</td>\n",
       "    </tr>\n",
       "    <tr>\n",
       "      <th>3</th>\n",
       "      <td>1</td>\n",
       "      <td>1</td>\n",
       "      <td>56</td>\n",
       "      <td>0</td>\n",
       "      <td>0.0</td>\n",
       "      <td>2</td>\n",
       "      <td>2.0</td>\n",
       "      <td>3</td>\n",
       "    </tr>\n",
       "    <tr>\n",
       "      <th>4</th>\n",
       "      <td>1</td>\n",
       "      <td>0</td>\n",
       "      <td>32</td>\n",
       "      <td>1</td>\n",
       "      <td>1.0</td>\n",
       "      <td>1</td>\n",
       "      <td>3.0</td>\n",
       "      <td>3</td>\n",
       "    </tr>\n",
       "    <tr>\n",
       "      <th>...</th>\n",
       "      <td>...</td>\n",
       "      <td>...</td>\n",
       "      <td>...</td>\n",
       "      <td>...</td>\n",
       "      <td>...</td>\n",
       "      <td>...</td>\n",
       "      <td>...</td>\n",
       "      <td>...</td>\n",
       "    </tr>\n",
       "    <tr>\n",
       "      <th>6800</th>\n",
       "      <td>1</td>\n",
       "      <td>0</td>\n",
       "      <td>22</td>\n",
       "      <td>0</td>\n",
       "      <td>0.0</td>\n",
       "      <td>1</td>\n",
       "      <td>7.0</td>\n",
       "      <td>4</td>\n",
       "    </tr>\n",
       "    <tr>\n",
       "      <th>6801</th>\n",
       "      <td>1</td>\n",
       "      <td>0</td>\n",
       "      <td>35</td>\n",
       "      <td>0</td>\n",
       "      <td>3.0</td>\n",
       "      <td>1</td>\n",
       "      <td>4.0</td>\n",
       "      <td>4</td>\n",
       "    </tr>\n",
       "    <tr>\n",
       "      <th>6802</th>\n",
       "      <td>0</td>\n",
       "      <td>0</td>\n",
       "      <td>33</td>\n",
       "      <td>1</td>\n",
       "      <td>1.0</td>\n",
       "      <td>1</td>\n",
       "      <td>1.0</td>\n",
       "      <td>4</td>\n",
       "    </tr>\n",
       "    <tr>\n",
       "      <th>6803</th>\n",
       "      <td>0</td>\n",
       "      <td>0</td>\n",
       "      <td>27</td>\n",
       "      <td>1</td>\n",
       "      <td>1.0</td>\n",
       "      <td>1</td>\n",
       "      <td>4.0</td>\n",
       "      <td>2</td>\n",
       "    </tr>\n",
       "    <tr>\n",
       "      <th>6804</th>\n",
       "      <td>1</td>\n",
       "      <td>1</td>\n",
       "      <td>37</td>\n",
       "      <td>1</td>\n",
       "      <td>0.0</td>\n",
       "      <td>2</td>\n",
       "      <td>3.0</td>\n",
       "      <td>2</td>\n",
       "    </tr>\n",
       "  </tbody>\n",
       "</table>\n",
       "<p>6805 rows × 8 columns</p>\n",
       "</div>"
      ],
      "text/plain": [
       "      Gender  Ever_Married  Age  Graduated  Work_Experience  Spending_Score  \\\n",
       "0          1             0   22          0              1.0               1   \n",
       "1          0             1   67          1              1.0               1   \n",
       "2          1             1   67          1              0.0               3   \n",
       "3          1             1   56          0              0.0               2   \n",
       "4          1             0   32          1              1.0               1   \n",
       "...      ...           ...  ...        ...              ...             ...   \n",
       "6800       1             0   22          0              0.0               1   \n",
       "6801       1             0   35          0              3.0               1   \n",
       "6802       0             0   33          1              1.0               1   \n",
       "6803       0             0   27          1              1.0               1   \n",
       "6804       1             1   37          1              0.0               2   \n",
       "\n",
       "      Family_Size  Segmentation  \n",
       "0             4.0             4  \n",
       "1             1.0             2  \n",
       "2             2.0             2  \n",
       "3             2.0             3  \n",
       "4             3.0             3  \n",
       "...           ...           ...  \n",
       "6800          7.0             4  \n",
       "6801          4.0             4  \n",
       "6802          1.0             4  \n",
       "6803          4.0             2  \n",
       "6804          3.0             2  \n",
       "\n",
       "[6805 rows x 8 columns]"
      ]
     },
     "execution_count": 4,
     "metadata": {},
     "output_type": "execute_result"
    }
   ],
   "source": [
    "df"
   ]
  },
  {
   "cell_type": "code",
   "execution_count": 90,
   "metadata": {},
   "outputs": [],
   "source": [
    "df.to_csv('record_data.csv',index=False)"
   ]
  },
  {
   "cell_type": "code",
   "execution_count": 75,
   "metadata": {},
   "outputs": [],
   "source": [
    "y=np.array(df[\"Segmentation\"])\n",
    "df=df.drop(\"Segmentation\",axis=1)"
   ]
  },
  {
   "cell_type": "code",
   "execution_count": 76,
   "metadata": {},
   "outputs": [],
   "source": [
    "X=np.array(df)"
   ]
  },
  {
   "cell_type": "code",
   "execution_count": 79,
   "metadata": {},
   "outputs": [
    {
     "name": "stdout",
     "output_type": "stream",
     "text": [
      "[-2.55816268e-17 -7.72669544e-17  1.94211534e-16 -5.32515496e-17\n",
      "  5.22074016e-17  2.08829606e-18 -1.87424572e-16]\n",
      "[1. 1. 1. 1. 1. 1. 1.]\n"
     ]
    }
   ],
   "source": [
    "ux=np.mean(X,axis=0)\n",
    "sx=np.std(X,axis=0)\n",
    "X_norm=(X-ux)/sx\n",
    "print(np.mean(X_norm,axis=0))\n",
    "print(np.std(X_norm,axis=0))"
   ]
  },
  {
   "cell_type": "code",
   "execution_count": 98,
   "metadata": {},
   "outputs": [
    {
     "name": "stdout",
     "output_type": "stream",
     "text": [
      "                   Gender  Ever_Married       Age  Graduated  Work_Experience  \\\n",
      "Gender           1.000000      0.115300  0.022542  -0.046511        -0.053622   \n",
      "Ever_Married     0.115300      1.000000  0.568312   0.204051        -0.092711   \n",
      "Age              0.022542      0.568312  1.000000   0.247284        -0.188743   \n",
      "Graduated       -0.046511      0.204051  0.247284   1.000000         0.033157   \n",
      "Work_Experience -0.053622     -0.092711 -0.188743   0.033157         1.000000   \n",
      "Spending_Score   0.068308      0.616483  0.430411   0.116575        -0.075263   \n",
      "Family_Size      0.057561     -0.085502 -0.283378  -0.236620        -0.068707   \n",
      "Segmentation     0.034244     -0.208597 -0.232587  -0.174693         0.009238   \n",
      "\n",
      "                 Spending_Score  Family_Size  Segmentation  \n",
      "Gender                 0.068308     0.057561      0.034244  \n",
      "Ever_Married           0.616483    -0.085502     -0.208597  \n",
      "Age                    0.430411    -0.283378     -0.232587  \n",
      "Graduated              0.116575    -0.236620     -0.174693  \n",
      "Work_Experience       -0.075263    -0.068707      0.009238  \n",
      "Spending_Score         1.000000     0.095453     -0.102058  \n",
      "Family_Size            0.095453     1.000000      0.195722  \n",
      "Segmentation          -0.102058     0.195722      1.000000  \n"
     ]
    },
    {
     "data": {
      "image/png": "[encoded data removed]",
      "text/plain": [
       "<Figure size 1008x864 with 2 Axes>"
      ]
     },
     "metadata": {
      "needs_background": "light"
     },
     "output_type": "display_data"
    }
   ],
   "source": [
    "print(df.corr())\n",
    "fig,axes = plt.subplots(1, 1, num=\"stars\",figsize=(14, 12))\n",
    "axes = sns.heatmap(df.corr(), vmin=-1, vmax=1,cmap=\"vlag\")\n",
    "axes.set_title(\"Heat Map of the Correlation Matrix\", fontsize=18)\n",
    "#plt.show()\n",
    "plt.savefig(\"correlation.png\",dpi=200)"
   ]
  }
 ],
 "metadata": {
  "kernelspec": {
   "display_name": "Python 3 (ipykernel)",
   "language": "python",
   "name": "python3"
  },
  "language_info": {
   "codemirror_mode": {
    "name": "ipython",
    "version": 3
   },
   "file_extension": ".py",
   "mimetype": "text/x-python",
   "name": "python",
   "nbconvert_exporter": "python",
   "pygments_lexer": "ipython3",
   "version": "3.9.12"
  },
  "vscode": {
   "interpreter": {
    "hash": "3bbb781ca6673b7d7a2eaec0820775eebfaab6ec1fac7365fb415515f8c23aa5"
   }
  }
 },
 "nbformat": 4,
 "nbformat_minor": 1
}
