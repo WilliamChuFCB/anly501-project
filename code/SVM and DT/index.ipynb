{
 "cells": [
  {
   "cell_type": "raw",
   "id": "4a887501",
   "metadata": {},
   "source": [
    "---\n",
    "pdf-engine: lualatex\n",
    "format:\n",
    "  html:\n",
    "    toc: true\n",
    "    code-fold: true\n",
    "    toc-title: Contents\n",
    "    number-sections: true\n",
    "execute:\n",
    "  echo: false\n",
    "---"
   ]
  },
  {
   "cell_type": "markdown",
   "id": "5b469c40",
   "metadata": {},
   "source": [
    "# Introduction"
   ]
  },
  {
   "cell_type": "markdown",
   "id": "e5e12c2c",
   "metadata": {},
   "source": [
    "On this page, you can find two tabs on the left side: SVM for text data, and Decision Tree for record data. \n",
    "\n",
    "In these two parts, you will see whole workflows respectively using two different kinds of machine learning algorithms - support vector machines, and decision trees."
   ]
  }
 ],
 "metadata": {
  "kernelspec": {
   "display_name": "Python 3.10.4 ('ANLY501')",
   "language": "python",
   "name": "python3"
  },
  "language_info": {
   "codemirror_mode": {
    "name": "ipython",
    "version": 3
   },
   "file_extension": ".py",
   "mimetype": "text/x-python",
   "name": "python",
   "nbconvert_exporter": "python",
   "pygments_lexer": "ipython3",
   "version": "3.10.4"
  },
  "vscode": {
   "interpreter": {
    "hash": "b0ce2853ec8e0e3526652f261e75f1ae318eee7c01e12fc8cc6458bd3792c7f8"
   }
  }
 },
 "nbformat": 4,
 "nbformat_minor": 5
}
