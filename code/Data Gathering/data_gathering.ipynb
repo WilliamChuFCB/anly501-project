{
 "cells": [
  {
   "cell_type": "raw",
   "id": "223791f5",
   "metadata": {},
   "source": [
    "---\n",
    "pdf-engine: lualatex\n",
    "format:\n",
    "  html:\n",
    "    toc: true\n",
    "    code-fold: true\n",
    "    toc-title: Contents\n",
    "    number-sections: false\n",
    "execute:\n",
    "  echo: true\n",
    "---"
   ]
  },
  {
   "cell_type": "markdown",
   "id": "4cea2709",
   "metadata": {},
   "source": [
    "## Introduction of data gathering\n",
    "\n",
    "Data gathering is known as the process to collect and analyze data from various sources in order to find answers to data science problems. In this page, I will introduce the whole process of gathering valuable data for this project, ranging from the raw data source to basic images that illustrates these datasets.\n",
    "\n",
    "Transportation is a relatively big and abstract topic. In order to answer the data science questions about this topic, I need to find different kinds of datasets. The first dimension is different types of data. To be specific, there are many different types of datasets, including labeled data, qualitative data, quantitative data, temporal data, text data, Geo data, etc. This study will cover three different types: record data, text data and temporal data. The second dimension is different scales of data. It is known to all, transportation is so important that it not only influences the life of every single person, but plays a big role in a country's macro-economy as well. Therefore, to systematically understanding the role of transportation, it is appropriate to use both \"big scale data\" about economy and government and \"small scale data\" about citizens and everyday life at the same time."
   ]
  },
  {
   "cell_type": "markdown",
   "id": "3f225e3b",
   "metadata": {},
   "source": [
    "## Data gathering process"
   ]
  },
  {
   "cell_type": "markdown",
   "id": "0fdad8ba",
   "metadata": {},
   "source": [
    "### 1. US Monthly Transportation Statistics\n",
    "\n",
    "The data is downloaded from Kaggle and is originally from the U.S. Department of Transportation Bureau of Transportation Statistics. The Bureau of Transportation Statistics brings together the latest data from across the Federal government and transportation industry. This table contains mainly quantitative data and temporal data. There are many columns involving important data for the project, such as Highway Vehicle Miles Traveled, State and Local Government Construction Spending. Obviously, this is a typical \"big scale data\" defined above. Here's a screenshot of this table."
   ]
  },
  {
   "cell_type": "markdown",
   "id": "9702b4f4",
   "metadata": {},
   "source": [
    "<img src=\"images1/data1.png\" width=\"1000\" height=\"500\">"
   ]
  },
  {
   "cell_type": "markdown",
   "id": "883d0efe",
   "metadata": {},
   "source": [
    "From this screenshot of the data, we can easily find that every row represent a single day while every column contains different variables of record data related to transportation of the whole nation. \n",
    "\n",
    "Link to download this data:\\\n",
    "https://www.kaggle.com/datasets/thaddeussegura/us-monthly-transportation-statistics/download?datasetVersionNumber=1"
   ]
  },
  {
   "cell_type": "markdown",
   "id": "9b8e873a",
   "metadata": {},
   "source": [
    "### 2. Text data from Twitter API\n",
    "\n",
    "I use Twitter API to respectively acquire searching results of \"freeway\" and \"metro\". This is obviously text data and it contains users' text documents in their tweets. \n",
    "\n",
    "Tweets about \"freeway\" is as follows:"
   ]
  },
  {
   "cell_type": "markdown",
   "id": "76abd52c",
   "metadata": {},
   "source": [
    "<img src=\"images1/tweet_freeway.jpeg\" width=\"800\" height=\"500\">"
   ]
  },
  {
   "cell_type": "markdown",
   "id": "2a5e311c",
   "metadata": {},
   "source": [
    "Tweets about \"metro\" is as follows:"
   ]
  },
  {
   "cell_type": "markdown",
   "id": "5caf63bf",
   "metadata": {},
   "source": [
    "<img src=\"images1/tweet_metro.jpeg\" width=\"800\" height=\"500\">"
   ]
  },
  {
   "cell_type": "markdown",
   "id": "65f44c79",
   "metadata": {},
   "source": [
    "According to these two screenshots, we can see that the data contains many characters that are difficult to process, like emojis. Thus, in further analysis of this data, I will first drop out the unwanted characters and also do some other data cleaning process for this text data. "
   ]
  },
  {
   "cell_type": "markdown",
   "id": "2af7ba9e",
   "metadata": {},
   "source": [
    "You can find this data in my Github repository: \\\n",
    "https://github.com/anly501/anly-501-project-WilliamChuFCB/tree/main/data \\\n",
    "This data mentioned above is named \"tweet_freeway.csv\" and \"tweet_metro.csv\" respectively.\n",
    "\n",
    "Also, you can access to my code that utilizes API to acquire the data:\\\n",
    "https://github.com/anly501/anly-501-project-WilliamChuFCB/tree/main/code \\\n",
    "Relevant codes are located in \"Data gathering\" file."
   ]
  },
  {
   "cell_type": "markdown",
   "id": "671d44aa",
   "metadata": {},
   "source": [
    "### 3. Travel mode choice data\n",
    "\n",
    "This dataset comes from statsmodels.org. It contains information of passengers' different choice of travel mode.\n",
    "\n",
    "The meanings of variables are as follows:\\\n",
    "TTME - terminal waiting time\\\n",
    "INVC - in vehicle cost for all stages\\\n",
    "INVT - travel time (in-vehicle time) for all stages\\\n",
    "GC - generalized cost measure:invc+(invt*value of travel time savings)\\\n",
    "HINC - household income\\\n",
    "PSIZE - traveling group size"
   ]
  },
  {
   "cell_type": "markdown",
   "id": "64bc8c23",
   "metadata": {},
   "source": [
    "<img src=\"images1/travel_mode.jpeg\" width=\"500\" height=\"700\">"
   ]
  },
  {
   "cell_type": "markdown",
   "id": "468500ce",
   "metadata": {},
   "source": [
    "From this screenshot, we can see that this data is a typical record data for classificaiton. In further analysis process, it is proper to utilize a series of different types of machine learning algorithms to do the classification.\n",
    "\n",
    "You can find the data here:\\\n",
    "https://www.statsmodels.org/dev/datasets/generated/modechoice.html"
   ]
  },
  {
   "cell_type": "markdown",
   "id": "8aa1f310",
   "metadata": {},
   "source": [
    "### 4. Driving behavior data\n",
    "\n",
    "This is a kaggle dataset about driving behavior. Aggressive driving behavior is the leading factor of road traffic accidents. Aggressive driving includes speeding, sudden breaks and sudden left or right turns. All these events are reflected on accelerometer and gyroscope data. This dataset contains value at different directions of accelerometer and gyroscope."
   ]
  },
  {
   "cell_type": "markdown",
   "id": "044d35ec",
   "metadata": {},
   "source": [
    "<img src=\"images1/driving_behavior.jpeg\" width=\"500\" height=\"560\">"
   ]
  },
  {
   "cell_type": "markdown",
   "id": "fed8d57c",
   "metadata": {},
   "source": [
    "Obviously, this is also a record data ideal for classification. The target variable \"Class\" has three different categories: Normal, Aggressive and Slow. It is possible to train a classification model to predict the driving behavior type based on accelerometer and gyroscope data.\n",
    "\n",
    "You can find this data here:\\\n",
    "https://www.kaggle.com/datasets/outofskills/driving-behavior?select=train_motion_data.csv\n"
   ]
  },
  {
   "cell_type": "markdown",
   "id": "6ee41a0a",
   "metadata": {},
   "source": [
    "### 5. Taxi price data\n",
    "\n",
    "This is a kaggle data about taxi price and is originally provided by an Indian cab aggregator service Sigma Cabs.\n",
    "This data is ideal for building a predictive model, which could help predict the surgepricingtype pro-actively. This would in turn match the right cabs with the right customers quickly and efficiently.\n",
    "\n",
    "The meanings of different variables are as follows:\n",
    "\n",
    "- Trip_ID: ID for TRIP \n",
    "- Trip_Distance: The distance for the trip requested by the customer\n",
    "- TypeofCab: Category of the cab requested by the customer\n",
    "- CustomerSinceMonths: Customer using cab services since n months; 0 month means current month\n",
    "- LifeStyleIndex: Proprietary index created by Sigma Cabs showing lifestyle of the customer based on their behaviour\n",
    "- ConfidenceLifeStyle_Index: Category showing confidence on the index mentioned above\n",
    "- Destination_Type: Sigma Cabs divides any destination in one of the 14 categories.\n",
    "- Customer_Rating: Average of life time ratings of the customer till date\n",
    "- CancellationLast1Month: Number of trips cancelled by the customer in last 1 month\n",
    "- Var1, Var2 and Var3: Continuous variables masked by the company. Can be used for modelling purposes\n",
    "- Gender: Gender of the customer\n",
    "- SurgePricingType: Target (can be of 3 types)"
   ]
  },
  {
   "cell_type": "markdown",
   "id": "834432ba",
   "metadata": {},
   "source": [
    "<img src=\"images1/taxi.jpeg\" width=\"800\" height=\"500\">"
   ]
  },
  {
   "cell_type": "markdown",
   "id": "06e83324",
   "metadata": {},
   "source": [
    "From this screenshot, we can see that there exist many missing values. Data cleaning and dealing with those missing values must be taken into consideration.\n",
    "\n",
    "You can find this data here:\\\n",
    "https://www.kaggle.com/datasets/arashnic/taxi-pricing-with-mobility-analytics?select=sigma_cabs.csv"
   ]
  }
 ],
 "metadata": {
  "kernelspec": {
   "display_name": "Python 3 (ipykernel)",
   "language": "python",
   "name": "python3"
  },
  "language_info": {
   "codemirror_mode": {
    "name": "ipython",
    "version": 3
   },
   "file_extension": ".py",
   "mimetype": "text/x-python",
   "name": "python",
   "nbconvert_exporter": "python",
   "pygments_lexer": "ipython3",
   "version": "3.9.12"
  }
 },
 "nbformat": 4,
 "nbformat_minor": 5
}
